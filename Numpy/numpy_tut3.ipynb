{
 "cells": [
  {
   "cell_type": "markdown",
   "metadata": {},
   "source": [
    " #### <span style='color:Red'> <span style='font-family:\"New Times Roman\"'> **Random Module in Numpy** </span>"
   ]
  },
  {
   "cell_type": "markdown",
   "metadata": {},
   "source": [
    "1.  <span style='font-family:\"Times New Roman\"'> <span style='color:Green'> **Random Intro**"
   ]
  },
  {
   "cell_type": "code",
   "execution_count": null,
   "metadata": {},
   "outputs": [],
   "source": [
    "import numpy as np\n",
    "from numpy import random\n",
    "import matplotlib.pyplot as plt\n",
    "import seaborn as sns"
   ]
  },
  {
   "cell_type": "code",
   "execution_count": null,
   "metadata": {},
   "outputs": [],
   "source": [
    "# Generating random integar number \n",
    "num1 = random.randint(5,10) # Generating a radnom number from 5 to 10\n",
    "print(num1)"
   ]
  },
  {
   "cell_type": "code",
   "execution_count": null,
   "metadata": {},
   "outputs": [],
   "source": [
    "# Generating radnom float number \n",
    "num2 = random.rand(2,2)*10  # generates a 2x2 matrix whose elements are radnomly between 0 to 10 \n",
    "print(num2)"
   ]
  },
  {
   "cell_type": "code",
   "execution_count": null,
   "metadata": {},
   "outputs": [],
   "source": [
    "# Generating radnom numbers from an array of a choice\n",
    "num3 = random.choice([1, 2, 3, 4],(2,2))\n",
    "print(num3)"
   ]
  },
  {
   "cell_type": "markdown",
   "metadata": {},
   "source": [
    "2.  <span style='font-family:\"Times New Roman\"'> <span style='color:Green'> **Data Distribution** <br>\n",
    "- <span style='font-family:\"New Times Roman\"'> Data Distribution is a list of all possible values, and how often each value occurs.\n",
    "- <span style='font-family:\"New Times Roman\"'> A random distribution is a set of random numbers that follow a certain probability density function.\n",
    "\n"
   ]
  },
  {
   "cell_type": "code",
   "execution_count": null,
   "metadata": {},
   "outputs": [],
   "source": [
    "# The choice() method allows us to specify the probability for each value.\n",
    "\n",
    "x = random.choice([3, 5, 7, 9], p=[0.1, 0.3, 0.6, 0.0], size=(3, 5))\n",
    "print(x)"
   ]
  },
  {
   "cell_type": "markdown",
   "metadata": {},
   "source": [
    "3. <span style='font-family:\"Times New Roman\"'> <span style='color:Green'> **Random Permutation** <br>\n",
    "- <span style='font-family:\"Times New Roman\"'> A permutation refers to an arrangement of elements. e.g. [3, 2, 1] is a permutation of [1, 2, 3] and vice-versa.\n",
    "- <span style='font-family:\"Times New Roman\"'>The NumPy Random module provides two methods for this: **shuffle()** and **permutation()**. </span>"
   ]
  },
  {
   "cell_type": "code",
   "execution_count": null,
   "metadata": {},
   "outputs": [],
   "source": [
    "# Shuffling of arrays \n",
    "arr = np.array([1,2,3,4,5])\n",
    "print(arr)\n",
    "random.shuffle(arr)\n",
    "print(arr)\n",
    "\n",
    "# Permutation of array \n",
    "random.permutation(arr)\n",
    "print(arr)"
   ]
  },
  {
   "cell_type": "markdown",
   "metadata": {},
   "source": [
    "4. <span style='font-family:\"Times New Roman\"'> <span style=\"color:Green\"> **Statistical Distributions**"
   ]
  },
  {
   "cell_type": "markdown",
   "metadata": {},
   "source": [
    "- <span style='font-family:\"Times New Roman\"'> <span style='color:Red'> **Normal Distribution**"
   ]
  },
  {
   "cell_type": "code",
   "execution_count": null,
   "metadata": {},
   "outputs": [],
   "source": []
  }
 ],
 "metadata": {
  "kernelspec": {
   "display_name": "myenv",
   "language": "python",
   "name": "python3"
  },
  "language_info": {
   "codemirror_mode": {
    "name": "ipython",
    "version": 3
   },
   "file_extension": ".py",
   "mimetype": "text/x-python",
   "name": "python",
   "nbconvert_exporter": "python",
   "pygments_lexer": "ipython3",
   "version": "3.12.3"
  }
 },
 "nbformat": 4,
 "nbformat_minor": 2
}
