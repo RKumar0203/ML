{
 "cells": [
  {
   "cell_type": "markdown",
   "metadata": {},
   "source": [
    " <span style='color:Green'> **Numpy Universal Functions** </span>"
   ]
  },
  {
   "cell_type": "markdown",
   "metadata": {},
   "source": [
    "1. **Rounding Decimals** <br>\n",
    "There are primarily five ways of rounding off decimals in NumPy:\n",
    "- truncation\n",
    "- fix\n",
    "- rounding\n",
    "- floor\n",
    "- ceil"
   ]
  },
  {
   "cell_type": "code",
   "execution_count": null,
   "metadata": {},
   "outputs": [],
   "source": [
    "import numpy as np "
   ]
  },
  {
   "cell_type": "code",
   "execution_count": null,
   "metadata": {},
   "outputs": [],
   "source": [
    "# Truncating an array\n",
    "arr = np.trunc([-3.23,9.252])\n",
    "arr1 = np.fix([-3.23,9.252])\n",
    "print(arr)\n",
    "print(arr1)"
   ]
  },
  {
   "cell_type": "code",
   "execution_count": null,
   "metadata": {},
   "outputs": [],
   "source": [
    "# Rounding off  an array \n",
    "a = np.around(3.156,2)\n",
    "print(a)"
   ]
  },
  {
   "cell_type": "code",
   "execution_count": null,
   "metadata": {},
   "outputs": [],
   "source": [
    "# Floor and ceil of a number \n",
    "a = 3.54\n",
    "b = np.floor(3.54)\n",
    "c = np.ceil(3.54)\n",
    "print(\"Floor of \",a, \" is :\",b)\n",
    "print(\"Ceil of \",a,\" is :\",c)"
   ]
  },
  {
   "cell_type": "markdown",
   "metadata": {},
   "source": [
    "2. **Mathematical Functions**"
   ]
  },
  {
   "cell_type": "code",
   "execution_count": null,
   "metadata": {},
   "outputs": [],
   "source": [
    "# Taking Logarithms \n",
    "x = 3\n",
    "\n",
    "# Log at base e  \n",
    "print(np.log(2))\n",
    "\n",
    "# Log at base 10 \n",
    "print(np.log10(2))\n",
    "\n",
    "# Log at base 2 \n",
    "print(np.log2(2))\n"
   ]
  },
  {
   "cell_type": "code",
   "execution_count": 15,
   "metadata": {},
   "outputs": [
    {
     "name": "stdout",
     "output_type": "stream",
     "text": [
      "[1.         0.8660254  0.70710678 0.58778525]\n",
      "[1.57079633 3.14159265 4.71238898 6.28318531]\n",
      "1.0\n"
     ]
    }
   ],
   "source": [
    "# Trigonmetric Functions\n",
    "arr = np.array([np.pi/2, np.pi/3, np.pi/4, np.pi/5])\n",
    "x = np.sin(arr)\n",
    "print(x)\n",
    "\n",
    "# Converting degree to radian\n",
    "arr1 = np.array([90, 180, 270, 360])\n",
    "print(np.deg2rad(arr1))\n",
    "\n",
    "# Hyperbolic Functions \n",
    "a = np.cosh(0)\n",
    "print(a)"
   ]
  }
 ],
 "metadata": {
  "kernelspec": {
   "display_name": "myenv",
   "language": "python",
   "name": "python3"
  },
  "language_info": {
   "codemirror_mode": {
    "name": "ipython",
    "version": 3
   },
   "file_extension": ".py",
   "mimetype": "text/x-python",
   "name": "python",
   "nbconvert_exporter": "python",
   "pygments_lexer": "ipython3",
   "version": "3.12.3"
  }
 },
 "nbformat": 4,
 "nbformat_minor": 2
}
