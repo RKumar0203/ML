{
 "cells": [
  {
   "cell_type": "markdown",
   "metadata": {},
   "source": [
    " #### <span style='color:Red'> <span style='font-family:\"New Times Roman\"'> **Random Module in Numpy** </span>"
   ]
  },
  {
   "cell_type": "markdown",
   "metadata": {},
   "source": [
    "1.  <span style='font-family:\"Times New Roman\"'> <span style='color:Green'> **Random Intro**"
   ]
  },
  {
   "cell_type": "code",
   "execution_count": 7,
   "metadata": {},
   "outputs": [],
   "source": [
    "import numpy as np\n",
    "from numpy import random"
   ]
  },
  {
   "cell_type": "code",
   "execution_count": 8,
   "metadata": {},
   "outputs": [
    {
     "name": "stdout",
     "output_type": "stream",
     "text": [
      "8\n"
     ]
    }
   ],
   "source": [
    "# Generating random integar number \n",
    "num1 = random.randint(5,10) # Generating a radnom number from 5 to 10\n",
    "print(num1)"
   ]
  },
  {
   "cell_type": "code",
   "execution_count": 9,
   "metadata": {},
   "outputs": [
    {
     "name": "stdout",
     "output_type": "stream",
     "text": [
      "[[3.96440712 7.79079993]\n",
      " [1.70517094 5.86675677]]\n"
     ]
    }
   ],
   "source": [
    "# Generating radnom float number \n",
    "num2 = random.rand(2,2)*10  # generates a 2x2 matrix whose elements are radnomly between 0 to 10 \n",
    "print(num2)"
   ]
  },
  {
   "cell_type": "code",
   "execution_count": 10,
   "metadata": {},
   "outputs": [
    {
     "name": "stdout",
     "output_type": "stream",
     "text": [
      "[[2 2]\n",
      " [1 4]]\n"
     ]
    }
   ],
   "source": [
    "# Generating radnom numbers from an array of a choice\n",
    "num3 = random.choice([1, 2, 3, 4],(2,2))\n",
    "print(num3)"
   ]
  },
  {
   "cell_type": "markdown",
   "metadata": {},
   "source": [
    "2.  <span style='font-family:\"Times New Roman\"'> <span style='color:Green'> **Data Distribution** <br>\n",
    "- <span style='font-family:\"New Times Roman\"'> Data Distribution is a list of all possible values, and how often each value occurs.\n",
    "- <span style='font-family:\"New Times Roman\"'> A random distribution is a set of random numbers that follow a certain probability density function.\n",
    "\n"
   ]
  },
  {
   "cell_type": "code",
   "execution_count": 11,
   "metadata": {},
   "outputs": [
    {
     "name": "stdout",
     "output_type": "stream",
     "text": [
      "[[7 7 7 7 7]\n",
      " [7 7 7 7 5]\n",
      " [7 7 7 7 7]]\n"
     ]
    }
   ],
   "source": [
    "# The choice() method allows us to specify the probability for each value.\n",
    "\n",
    "x = random.choice([3, 5, 7, 9], p=[0.1, 0.3, 0.6, 0.0], size=(3, 5))\n",
    "print(x)"
   ]
  },
  {
   "cell_type": "markdown",
   "metadata": {},
   "source": [
    "3. <span style='font-family:\"Times New Roman\"'> <span style='color:Green'> **Random Permutation** <br>"
   ]
  },
  {
   "cell_type": "code",
   "execution_count": null,
   "metadata": {},
   "outputs": [],
   "source": []
  }
 ],
 "metadata": {
  "kernelspec": {
   "display_name": "Python 3 (ipykernel)",
   "language": "python",
   "name": "python3"
  },
  "language_info": {
   "codemirror_mode": {
    "name": "ipython",
    "version": 3
   },
   "file_extension": ".py",
   "mimetype": "text/x-python",
   "name": "python",
   "nbconvert_exporter": "python",
   "pygments_lexer": "ipython3",
   "version": "3.12.3"
  }
 },
 "nbformat": 4,
 "nbformat_minor": 2
}
