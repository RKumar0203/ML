{
 "cells": [
  {
   "cell_type": "markdown",
   "metadata": {},
   "source": [
    "## <span style='color:cyan'>  **Numpy-Numerical Python** </span> \n",
    "- Advantage of Numpy array\n",
    "- Allows several Mathematical and faster options"
   ]
  },
  {
   "cell_type": "code",
   "execution_count": null,
   "metadata": {},
   "outputs": [],
   "source": [
    "import numpy as np"
   ]
  },
  {
   "cell_type": "markdown",
   "metadata": {},
   "source": [
    "List vs Numpy: Time taken"
   ]
  },
  {
   "cell_type": "code",
   "execution_count": null,
   "metadata": {},
   "outputs": [],
   "source": [
    "from time import process_time\n",
    "# Time taken by a list\n",
    "python_list = [i for i in range(10000)]\n",
    "\n",
    "start_time = process_time()\n",
    "    \n",
    "python_list = [i+5 for i in python_list]\n",
    "    \n",
    "end_time = process_time()\n",
    "\n",
    "print(end_time - start_time)"
   ]
  },
  {
   "cell_type": "code",
   "execution_count": null,
   "metadata": {},
   "outputs": [],
   "source": [
    "\n",
    "np_array = np.array([i for i in range(10000)])\n",
    "\n",
    "start_time = process_time()\n",
    "\n",
    "np_array += 5\n",
    "\n",
    "end_time = process_time()\n",
    "\n",
    "print(end_time - start_time)\n"
   ]
  },
  {
   "cell_type": "markdown",
   "metadata": {},
   "source": [
    "**Numpy Arrays**"
   ]
  },
  {
   "cell_type": "code",
   "execution_count": null,
   "metadata": {},
   "outputs": [],
   "source": [
    "# List \n",
    "list = [1,2,3,4]\n",
    "print(list)\n",
    "type(list)"
   ]
  },
  {
   "cell_type": "code",
   "execution_count": null,
   "metadata": {},
   "outputs": [],
   "source": [
    "# Numpy Array\n",
    "np_array = np.array([1,2,3,4])\n",
    "print(np_array)\n",
    "type(np_array)"
   ]
  },
  {
   "cell_type": "code",
   "execution_count": null,
   "metadata": {},
   "outputs": [],
   "source": [
    "# Creating 1 dim array \n",
    "a = np.array([1,2,3,4])\n",
    "a.shape"
   ]
  },
  {
   "cell_type": "code",
   "execution_count": null,
   "metadata": {},
   "outputs": [],
   "source": [
    "# Creating 2 Dim array\n",
    "b = np.array([(1,2,3,4),(5,6,7,8)])\n",
    "print(b)\n",
    "b.shape"
   ]
  },
  {
   "cell_type": "code",
   "execution_count": null,
   "metadata": {},
   "outputs": [],
   "source": [
    "# Creating 3 Dimensional array \n",
    "c = np.array([(0.5,0.6),(0.7,0.9)],dtype=float)\n",
    "print(c)\n",
    "c.shape"
   ]
  },
  {
   "cell_type": "markdown",
   "metadata": {},
   "source": [
    " **Intial Place holders in arrays**\n"
   ]
  },
  {
   "cell_type": "code",
   "execution_count": null,
   "metadata": {},
   "outputs": [],
   "source": [
    "# Create a numpy array of zeros \n",
    "x = np.zeros((4,5))\n",
    "print(x)\n",
    "\n",
    "# Create a numpy arrays of ones\n",
    "y = np.ones((3,3))\n",
    "print(y)\n"
   ]
  },
  {
   "cell_type": "code",
   "execution_count": null,
   "metadata": {},
   "outputs": [],
   "source": [
    "# Create a array of particular value \n",
    "z = np.full((5,4),5)\n",
    "print(z)"
   ]
  },
  {
   "cell_type": "code",
   "execution_count": null,
   "metadata": {},
   "outputs": [],
   "source": [
    "# Creating an identity matrix \n",
    "a = np.eye(3)\n",
    "print(a)"
   ]
  },
  {
   "cell_type": "code",
   "execution_count": null,
   "metadata": {},
   "outputs": [],
   "source": [
    "# Creating an numpy array with random value \n",
    "b = np.random.random((3,4))\n",
    "print(b)\n",
    "\n",
    "# Random integar values array with an specific range \n",
    "c = np.random.randint(10,100,(3,4))\n",
    "print(c)"
   ]
  },
  {
   "cell_type": "code",
   "execution_count": null,
   "metadata": {},
   "outputs": [],
   "source": [
    "# array of evenly spaced value\n",
    "m = np.linspace(10,30,6)\n",
    "print(m)"
   ]
  },
  {
   "cell_type": "code",
   "execution_count": null,
   "metadata": {},
   "outputs": [],
   "source": [
    "# Array of evenly specified value \n",
    "s = np.arange(10,30,5)\n",
    "print(s)"
   ]
  },
  {
   "cell_type": "code",
   "execution_count": null,
   "metadata": {},
   "outputs": [],
   "source": [
    "# Convert a list to numpy array \n",
    "list2 = [5,10,15,20]\n",
    "np_array = np.array(list2)\n",
    "print(np_array)\n",
    "type(np_array)"
   ]
  },
  {
   "cell_type": "markdown",
   "metadata": {},
   "source": [
    "**Analysing a numpy array**"
   ]
  },
  {
   "cell_type": "code",
   "execution_count": null,
   "metadata": {},
   "outputs": [],
   "source": [
    "c = np.random.randint(10,30,(3,3))\n",
    "print(c)"
   ]
  },
  {
   "cell_type": "code",
   "execution_count": null,
   "metadata": {},
   "outputs": [],
   "source": [
    "# Finding dimensions of array \n",
    "print(\"Order of matrix is :\",c.shape)\n",
    "# Dimensions of array\n",
    "print(\"Number of dimesions is:\",c.ndim)\n",
    "# Number of elements in array \n",
    "print(\"Number of elements in array is:\",c.size)\n",
    "\n",
    "# Data type of array \n",
    "print(\"The data type of array is: \",c.dtype)"
   ]
  },
  {
   "cell_type": "markdown",
   "metadata": {},
   "source": [
    "**Mathematical operations on Numpy array**"
   ]
  },
  {
   "cell_type": "code",
   "execution_count": null,
   "metadata": {},
   "outputs": [],
   "source": [
    "a = np.random.randint(0,10,(3,3))\n",
    "b = np.random.randint(10,20,(3,3))\n",
    "print(a)\n",
    "print(b)\n",
    "print(a+b)\n",
    "print(a-b)\n",
    "print(a*b)\n",
    "print(a/b)\n",
    "print(a%b)"
   ]
  },
  {
   "cell_type": "code",
   "execution_count": null,
   "metadata": {},
   "outputs": [],
   "source": [
    "a = np.random.randint(0,10,(3,3))\n",
    "b = np.random.randint(10,20,(3,3))\n",
    "print(np.add(a,b))\n",
    "print(np.subtract(a,b))\n",
    "print(np.multiply(a,b))\n",
    "print(np.divide(a,b))"
   ]
  },
  {
   "cell_type": "markdown",
   "metadata": {},
   "source": [
    "**Array Manipulation**"
   ]
  },
  {
   "cell_type": "code",
   "execution_count": null,
   "metadata": {},
   "outputs": [],
   "source": [
    "array = np.random.randint(0,10,(2,3))\n",
    "print(array)\n",
    "print(array.shape)"
   ]
  },
  {
   "cell_type": "code",
   "execution_count": null,
   "metadata": {},
   "outputs": [],
   "source": [
    "# Transpose\n",
    "trans = np.transpose(array)\n",
    "trans2 = array.T\n",
    "print(trans2)\n",
    "print(trans2.shape)\n",
    "print(trans)\n",
    "print(trans.shape)"
   ]
  }
 ],
 "metadata": {
  "kernelspec": {
   "display_name": "myenv",
   "language": "python",
   "name": "python3"
  },
  "language_info": {
   "codemirror_mode": {
    "name": "ipython",
    "version": 3
   },
   "file_extension": ".py",
   "mimetype": "text/x-python",
   "name": "python",
   "nbconvert_exporter": "python",
   "pygments_lexer": "ipython3",
   "version": "3.12.3"
  }
 },
 "nbformat": 4,
 "nbformat_minor": 2
}
